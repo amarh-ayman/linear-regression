{
 "cells": [
  {
   "cell_type": "code",
   "execution_count": 1,
   "id": "72cfd71f-e994-443c-b1ce-e514614158cb",
   "metadata": {},
   "outputs": [],
   "source": [
    "import pandas as pd\n",
    "import matplotlib.pyplot as plt\n",
    "from sklearn.model_selection import train_test_split\n",
    "from sklearn.linear_model import LinearRegression"
   ]
  },
  {
   "cell_type": "markdown",
   "id": "b6f4c248-fc96-4b58-bc4b-678f96491651",
   "metadata": {},
   "source": [
    "### read the file"
   ]
  },
  {
   "cell_type": "code",
   "execution_count": 2,
   "id": "c3c6f258-8606-4b46-be74-1beb9bddbf09",
   "metadata": {},
   "outputs": [
    {
     "data": {
      "text/html": [
       "<div>\n",
       "<style scoped>\n",
       "    .dataframe tbody tr th:only-of-type {\n",
       "        vertical-align: middle;\n",
       "    }\n",
       "\n",
       "    .dataframe tbody tr th {\n",
       "        vertical-align: top;\n",
       "    }\n",
       "\n",
       "    .dataframe thead th {\n",
       "        text-align: right;\n",
       "    }\n",
       "</style>\n",
       "<table border=\"1\" class=\"dataframe\">\n",
       "  <thead>\n",
       "    <tr style=\"text-align: right;\">\n",
       "      <th></th>\n",
       "      <th>age</th>\n",
       "      <th>sex</th>\n",
       "      <th>bmi</th>\n",
       "      <th>children</th>\n",
       "      <th>smoker</th>\n",
       "      <th>region</th>\n",
       "      <th>charges</th>\n",
       "    </tr>\n",
       "  </thead>\n",
       "  <tbody>\n",
       "    <tr>\n",
       "      <th>0</th>\n",
       "      <td>19</td>\n",
       "      <td>female</td>\n",
       "      <td>27.900</td>\n",
       "      <td>0</td>\n",
       "      <td>yes</td>\n",
       "      <td>southwest</td>\n",
       "      <td>16884.92400</td>\n",
       "    </tr>\n",
       "    <tr>\n",
       "      <th>1</th>\n",
       "      <td>18</td>\n",
       "      <td>male</td>\n",
       "      <td>33.770</td>\n",
       "      <td>1</td>\n",
       "      <td>no</td>\n",
       "      <td>southeast</td>\n",
       "      <td>1725.55230</td>\n",
       "    </tr>\n",
       "    <tr>\n",
       "      <th>2</th>\n",
       "      <td>28</td>\n",
       "      <td>male</td>\n",
       "      <td>33.000</td>\n",
       "      <td>3</td>\n",
       "      <td>no</td>\n",
       "      <td>southeast</td>\n",
       "      <td>4449.46200</td>\n",
       "    </tr>\n",
       "    <tr>\n",
       "      <th>3</th>\n",
       "      <td>33</td>\n",
       "      <td>male</td>\n",
       "      <td>22.705</td>\n",
       "      <td>0</td>\n",
       "      <td>no</td>\n",
       "      <td>northwest</td>\n",
       "      <td>21984.47061</td>\n",
       "    </tr>\n",
       "    <tr>\n",
       "      <th>4</th>\n",
       "      <td>32</td>\n",
       "      <td>male</td>\n",
       "      <td>28.880</td>\n",
       "      <td>0</td>\n",
       "      <td>no</td>\n",
       "      <td>northwest</td>\n",
       "      <td>3866.85520</td>\n",
       "    </tr>\n",
       "  </tbody>\n",
       "</table>\n",
       "</div>"
      ],
      "text/plain": [
       "   age     sex     bmi  children smoker     region      charges\n",
       "0   19  female  27.900         0    yes  southwest  16884.92400\n",
       "1   18    male  33.770         1     no  southeast   1725.55230\n",
       "2   28    male  33.000         3     no  southeast   4449.46200\n",
       "3   33    male  22.705         0     no  northwest  21984.47061\n",
       "4   32    male  28.880         0     no  northwest   3866.85520"
      ]
     },
     "execution_count": 2,
     "metadata": {},
     "output_type": "execute_result"
    }
   ],
   "source": [
    "df=pd.read_csv('./insurance.csv')\n",
    "df.head()"
   ]
  },
  {
   "cell_type": "code",
   "execution_count": 3,
   "id": "fe770219-c6d2-4fa7-b50c-fb8218be0aa0",
   "metadata": {},
   "outputs": [
    {
     "name": "stdout",
     "output_type": "stream",
     "text": [
      "<class 'pandas.core.frame.DataFrame'>\n",
      "RangeIndex: 1338 entries, 0 to 1337\n",
      "Data columns (total 7 columns):\n",
      " #   Column    Non-Null Count  Dtype  \n",
      "---  ------    --------------  -----  \n",
      " 0   age       1338 non-null   int64  \n",
      " 1   sex       1338 non-null   object \n",
      " 2   bmi       1338 non-null   float64\n",
      " 3   children  1338 non-null   int64  \n",
      " 4   smoker    1338 non-null   object \n",
      " 5   region    1338 non-null   object \n",
      " 6   charges   1338 non-null   float64\n",
      "dtypes: float64(2), int64(2), object(3)\n",
      "memory usage: 73.3+ KB\n"
     ]
    }
   ],
   "source": [
    "df.info()"
   ]
  },
  {
   "cell_type": "code",
   "execution_count": 4,
   "id": "aa49e13e-ccf5-43b1-a2fe-5ea8e3706877",
   "metadata": {},
   "outputs": [],
   "source": [
    "xAge=df.age.values.reshape(-1,1)\n",
    "xBmi=df.bmi.values.reshape(-1,1)\n",
    "xChildren=df.children.values.reshape(-1,1)\n",
    "y=df.charges.values"
   ]
  },
  {
   "cell_type": "code",
   "execution_count": 64,
   "id": "7ce6d9b3-c126-4cdd-b7ac-4c7e71556d19",
   "metadata": {},
   "outputs": [],
   "source": [
    "xAge_train, xAge_test, y_train, y_test = train_test_split(xAge,y,train_size=0.7,test_size=0.3,random_state=100)\n",
    "xBmi_train, xBmi_test, y_train, y_test = train_test_split(xBmi,y,train_size=0.7,test_size=0.3,random_state=100)\n",
    "xChildren_train, xChildren_test, y_train, y_test = train_test_split(xChildren,y,train_size=0.7,test_size=0.3,random_state=100)"
   ]
  },
  {
   "cell_type": "markdown",
   "id": "bbe617b9-042f-4202-b28a-b76234cf8d0c",
   "metadata": {},
   "source": [
    "## matplotlib line"
   ]
  },
  {
   "cell_type": "code",
   "execution_count": 65,
   "id": "a0331e19-7d5e-46f3-a40a-6f0201c11cb4",
   "metadata": {},
   "outputs": [
    {
     "data": {
      "image/png": "[encoded data removed]",
      "text/plain": [
       "<Figure size 432x288 with 1 Axes>"
      ]
     },
     "metadata": {
      "needs_background": "light"
     },
     "output_type": "display_data"
    }
   ],
   "source": [
    "plt.scatter(xAge_train , y_train ,color='whitesmoke')\n",
    "plt.scatter(xBmi_train , y_train ,color='hotpink')\n",
    "plt.scatter(xChildren_train , y_train ,color='skyblue')\n",
    "\n",
    "plt.legend([\"age\" , \"bmi\" ,\"chlidren\"])\n",
    "plt.show()"
   ]
  },
  {
   "cell_type": "markdown",
   "id": "661d4351-9fc7-4027-b715-117a13f8e7a3",
   "metadata": {},
   "source": [
    "## linear REgression"
   ]
  },
  {
   "cell_type": "code",
   "execution_count": 66,
   "id": "cdc4ae4d-f9ee-4907-b8c9-1b110e44b54d",
   "metadata": {},
   "outputs": [
    {
     "data": {
      "text/plain": [
       "<function matplotlib.pyplot.plot(*args, scalex=True, scaley=True, data=None, **kwargs)>"
      ]
     },
     "execution_count": 66,
     "metadata": {},
     "output_type": "execute_result"
    },
    {
     "data": {
      "image/png": "[encoded data removed]",
      "text/plain": [
       "<Figure size 432x288 with 1 Axes>"
      ]
     },
     "metadata": {
      "needs_background": "light"
     },
     "output_type": "display_data"
    }
   ],
   "source": [
    "lR=LinearRegression()\n",
    "lR.fit(xAge_train,y_train)\n",
    "yAgePredict=lR.predict(xAge_test)\n",
    "plt.plot(xAge_test ,yAgePredict ,label='age')\n",
    "\n",
    "lR.fit(xBmi_train,y_train)\n",
    "yBmiPredict=lR.predict(xBmi_test)\n",
    "plt.plot(xBmi_test ,yBmiPredict ,label='bmi')\n",
    "\n",
    "lR.fit(xChildren_train,y_train)\n",
    "yChildrenPredict=lR.predict(xChildren_test)\n",
    "plt.plot(xChildren_test ,yChildrenPredict ,label='Children')\n",
    "\n",
    "plt.legend()\n",
    "plt.plot\n"
   ]
  },
  {
   "cell_type": "code",
   "execution_count": null,
   "id": "8eb60876-51b7-40d9-b070-d04ebaec7c0b",
   "metadata": {},
   "outputs": [],
   "source": []
  }
 ],
 "metadata": {
  "kernelspec": {
   "display_name": "Python 3",
   "language": "python",
   "name": "python3"
  },
  "language_info": {
   "codemirror_mode": {
    "name": "ipython",
    "version": 3
   },
   "file_extension": ".py",
   "mimetype": "text/x-python",
   "name": "python",
   "nbconvert_exporter": "python",
   "pygments_lexer": "ipython3",
   "version": "3.9.4"
  }
 },
 "nbformat": 4,
 "nbformat_minor": 5
}
